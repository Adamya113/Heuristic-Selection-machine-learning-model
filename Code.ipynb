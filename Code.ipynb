{
  "nbformat": 4,
  "nbformat_minor": 0,
  "metadata": {
    "colab": {
      "provenance": []
    },
    "kernelspec": {
      "name": "python3",
      "display_name": "Python 3"
    },
    "language_info": {
      "name": "python"
    }
  },
  "cells": [
    {
      "cell_type": "markdown",
      "source": [
        "# **Data loading and preprocessing**"
      ],
      "metadata": {
        "id": "iAuYlviW2tMC"
      }
    },
    {
      "cell_type": "markdown",
      "source": [
        "**Mounting drive**"
      ],
      "metadata": {
        "id": "acC2B4La3Yfr"
      }
    },
    {
      "cell_type": "code",
      "source": [
        "from google.colab import drive\n",
        "drive.mount('/content/drive')"
      ],
      "metadata": {
        "id": "Xi_xkNRY3Xqz"
      },
      "execution_count": null,
      "outputs": []
    },
    {
      "cell_type": "markdown",
      "source": [
        "**Importing libraries**"
      ],
      "metadata": {
        "id": "zOsg4g5y3gAZ"
      }
    },
    {
      "cell_type": "code",
      "source": [
        "import pandas as pd\n",
        "import numpy as np\n",
        "from sklearn.model_selection import train_test_split\n",
        "from sklearn.linear_model import Perceptron, LogisticRegression \n",
        "from sklearn.naive_bayes import GaussianNB\n",
        "from sklearn.tree import DecisionTreeClassifier\n",
        "from sklearn.neighbors import KNeighborsClassifier\n",
        "from sklearn.svm import SVC\n",
        "from sklearn.metrics import accuracy_score, classification_report\n",
        "from sklearn.ensemble import RandomForestClassifier, AdaBoostClassifier, GradientBoostingClassifier\n",
        "import xgboost as xgb\n",
        "import math\n",
        "from sklearn.feature_selection import SelectKBest, f_classif\n",
        "import seaborn as sns\n",
        "import matplotlib.pyplot as plt\n",
        "from sklearn.model_selection import RandomizedSearchCV, StratifiedKFold"
      ],
      "metadata": {
        "id": "gJ4CRJg-3ZsR"
      },
      "execution_count": 124,
      "outputs": []
    },
    {
      "cell_type": "markdown",
      "source": [
        "**Reading files**"
      ],
      "metadata": {
        "id": "kb2SQSSk316q"
      }
    },
    {
      "cell_type": "code",
      "source": [
        "all_data_raw = pd.read_csv('/content/drive/MyDrive/Main/Ml project/ml-prove-data/all-data-raw.csv', header = None)\n",
        "test_data = pd.read_csv('/content/drive/MyDrive/Main/Ml project/ml-prove-data/test.csv', header = None)\n",
        "train_data = pd.read_csv('/content/drive/MyDrive/Main/Ml project/ml-prove-data/train.csv', header = None)\n",
        "validation_data = pd.read_csv('/content/drive/MyDrive/Main/Ml project/ml-prove-data/validation.csv', header = None)"
      ],
      "metadata": {
        "id": "zvQaa-gM39zT"
      },
      "execution_count": 32,
      "outputs": []
    },
    {
      "cell_type": "markdown",
      "source": [
        "**Giving column names**"
      ],
      "metadata": {
        "id": "tSQpQn4038Cd"
      }
    },
    {
      "cell_type": "code",
      "source": [
        "train_data.columns = ['Stat_F1' ,'Stat_F2' ,'Stat_F3' ,'Stat_F4' ,'Stat_F5' ,'Stat_F6' ,'Stat_F7' ,'Stat_F8' ,'Stat_F9' ,'Stat_F10' ,\n",
        "                      'Stat_F11' ,'Stat_F12' ,'Stat_F13' , 'Dynamic_F1' ,'Dynamic_F2' ,'Dynamic_F3' ,'Dynamic_F4' ,'Dynamic_F5' ,\n",
        "                        'Dynamic_F6' ,'Dynamic_F7' ,'Dynamic_F8' ,'Dynamic_F9' ,'Dynamic_F10' ,'Dynamic_F11' ,'Dynamic_F12' ,'Dynamic_F13' ,\n",
        "                        'Dynamic_F14' ,'Dynamic_F15' ,'Dynamic_F16' ,'Dynamic_F17' ,'Dynamic_F18' ,'Dynamic_F19' ,'Dynamic_F20' ,'Dynamic_F21' ,\n",
        "                        'Dynamic_F22' ,'Dynamic_F23' ,'Dynamic_F24' ,'Dynamic_F25' ,'Dynamic_F26' ,'Dynamic_F27' ,'Dynamic_F28' ,'Dynamic_F29' ,\n",
        "                        'Dynamic_F30' ,'Dynamic_F31' ,'Dynamic_F32' ,'Dynamic_F33' ,'Dynamic_F34' ,'Dynamic_F35' ,'Dynamic_F36' ,'Dynamic_F37' ,\n",
        "                        'Dynamic_F38' ,'Heuristic1' ,'Heuristic2' ,'Heuristic3' ,'Heuristic4' ,'Heuristic5', 'Heuristic0' ]"
      ],
      "metadata": {
        "id": "2xUjGH7T_lLF"
      },
      "execution_count": 33,
      "outputs": []
    },
    {
      "cell_type": "code",
      "source": [
        "test_Data = pd.DataFrame(data=test_data.values, columns=train_data.columns)\n",
        "validation_data = pd.DataFrame(data=validation_data.values, columns=train_data.columns)"
      ],
      "metadata": {
        "id": "3cKYqHM5BB7c"
      },
      "execution_count": 34,
      "outputs": []
    },
    {
      "cell_type": "code",
      "source": [
        "all_data_raw.columns = ['Stat_F1' ,'Stat_F2' ,'Stat_F3' ,'Stat_F4' ,'Stat_F5' ,'Stat_F6' ,'Stat_F7' ,'Stat_F8' ,'Stat_F9' ,'Stat_F10' ,\n",
        "                        'Stat_F11' ,'Stat_F12' ,'Stat_F13' ,'Stat_F14' ,'Dynamic_F1' ,'Dynamic_F2' ,'Dynamic_F3' ,'Dynamic_F4' ,'Dynamic_F5' ,\n",
        "                        'Dynamic_F6' ,'Dynamic_F7' ,'Dynamic_F8' ,'Dynamic_F9' ,'Dynamic_F10' ,'Dynamic_F11' ,'Dynamic_F12' ,'Dynamic_F13' ,\n",
        "                        'Dynamic_F14' ,'Dynamic_F15' ,'Dynamic_F16' ,'Dynamic_F17' ,'Dynamic_F18' ,'Dynamic_F19' ,'Dynamic_F20' ,'Dynamic_F21' ,\n",
        "                        'Dynamic_F22' ,'Dynamic_F23' ,'Dynamic_F24' ,'Dynamic_F25' ,'Dynamic_F26' ,'Dynamic_F27' ,'Dynamic_F28' ,'Dynamic_F29' ,\n",
        "                        'Dynamic_F30' ,'Dynamic_F31' ,'Dynamic_F32' ,'Dynamic_F33' ,'Dynamic_F34' ,'Dynamic_F35' ,'Dynamic_F36' ,'Dynamic_F37' ,\n",
        "                        'Dynamic_F38' ,'Dynamic_F39' ,'Heuristic1' ,'Heuristic2' ,'Heuristic3' ,'Heuristic4' ,'Heuristic5']\n"
      ],
      "metadata": {
        "id": "lG4DtR0e74DX"
      },
      "execution_count": 35,
      "outputs": []
    },
    {
      "cell_type": "code",
      "source": [
        "all_data = train_data\n",
        "all_data = all_data.append(validation_data)\n",
        "all_data = all_data.append(test_Data)"
      ],
      "metadata": {
        "id": "tjxynGrrDtdQ"
      },
      "execution_count": null,
      "outputs": []
    },
    {
      "cell_type": "markdown",
      "source": [
        "# Exploratory Data Analysis"
      ],
      "metadata": {
        "id": "lK72zsFr8Kvb"
      }
    },
    {
      "cell_type": "markdown",
      "source": [
        "**Checking for missing values**"
      ],
      "metadata": {
        "id": "pRWg4FB84qyP"
      }
    },
    {
      "cell_type": "code",
      "source": [
        "all_data.isna().sum()"
      ],
      "metadata": {
        "colab": {
          "base_uri": "https://localhost:8080/",
          "height": 0
        },
        "id": "QiwhPfyzD0R3",
        "outputId": "4577e162-9a7f-4c82-c590-d6334ea5f737"
      },
      "execution_count": 37,
      "outputs": [
        {
          "output_type": "execute_result",
          "data": {
            "text/plain": [
              "Stat_F1        0\n",
              "Stat_F2        0\n",
              "Stat_F3        0\n",
              "Stat_F4        0\n",
              "Stat_F5        0\n",
              "Stat_F6        0\n",
              "Stat_F7        0\n",
              "Stat_F8        0\n",
              "Stat_F9        0\n",
              "Stat_F10       0\n",
              "Stat_F11       0\n",
              "Stat_F12       0\n",
              "Stat_F13       0\n",
              "Dynamic_F1     0\n",
              "Dynamic_F2     0\n",
              "Dynamic_F3     0\n",
              "Dynamic_F4     0\n",
              "Dynamic_F5     0\n",
              "Dynamic_F6     0\n",
              "Dynamic_F7     0\n",
              "Dynamic_F8     0\n",
              "Dynamic_F9     0\n",
              "Dynamic_F10    0\n",
              "Dynamic_F11    0\n",
              "Dynamic_F12    0\n",
              "Dynamic_F13    0\n",
              "Dynamic_F14    0\n",
              "Dynamic_F15    0\n",
              "Dynamic_F16    0\n",
              "Dynamic_F17    0\n",
              "Dynamic_F18    0\n",
              "Dynamic_F19    0\n",
              "Dynamic_F20    0\n",
              "Dynamic_F21    0\n",
              "Dynamic_F22    0\n",
              "Dynamic_F23    0\n",
              "Dynamic_F24    0\n",
              "Dynamic_F25    0\n",
              "Dynamic_F26    0\n",
              "Dynamic_F27    0\n",
              "Dynamic_F28    0\n",
              "Dynamic_F29    0\n",
              "Dynamic_F30    0\n",
              "Dynamic_F31    0\n",
              "Dynamic_F32    0\n",
              "Dynamic_F33    0\n",
              "Dynamic_F34    0\n",
              "Dynamic_F35    0\n",
              "Dynamic_F36    0\n",
              "Dynamic_F37    0\n",
              "Dynamic_F38    0\n",
              "Heuristic1     0\n",
              "Heuristic2     0\n",
              "Heuristic3     0\n",
              "Heuristic4     0\n",
              "Heuristic5     0\n",
              "Heuristic0     0\n",
              "dtype: int64"
            ]
          },
          "metadata": {},
          "execution_count": 37
        }
      ]
    },
    {
      "cell_type": "code",
      "source": [
        "all_data.head()"
      ],
      "metadata": {
        "colab": {
          "base_uri": "https://localhost:8080/",
          "height": 299
        },
        "id": "gdYaRgbgaXdi",
        "outputId": "45fdc58b-7668-4e4f-e6b6-9966144c91c3"
      },
      "execution_count": 38,
      "outputs": [
        {
          "output_type": "execute_result",
          "data": {
            "text/plain": [
              "   Stat_F1  Stat_F2  Stat_F3  Stat_F4  Stat_F5  Stat_F6  Stat_F7  Stat_F8  \\\n",
              "0   1.4895  0.81688   2.1168   1.7836   1.5346 -0.30543  -1.2477 -0.14537   \n",
              "1   1.4895  0.81688   2.1168   1.7895   1.5403 -0.31850  -1.2477 -0.14537   \n",
              "2   1.4895  0.81688   2.1168   1.7836   1.5346 -0.30543  -1.2477 -0.14537   \n",
              "3   1.4895  0.81688   2.1168   1.7836   1.5346 -0.30543  -1.2477 -0.14537   \n",
              "4   1.4895  0.81688   2.1168   1.7836   1.5346 -0.30543  -1.2477 -0.14537   \n",
              "\n",
              "   Stat_F9  Stat_F10  ...  Dynamic_F35  Dynamic_F36  Dynamic_F37  Dynamic_F38  \\\n",
              "0 -0.59356  -0.23316  ...     -0.48278       1.4630      0.27015      -1.5559   \n",
              "1 -0.59356  -0.23316  ...     -0.48278       1.4801      0.21361      -1.5559   \n",
              "2 -0.59356  -0.23316  ...     -0.48278       1.4744      0.23245      -1.5559   \n",
              "3 -0.59356  -0.23316  ...     -0.48278       1.4401      0.34553      -1.5559   \n",
              "4 -0.59356  -0.23316  ...     -0.48278       1.4458      0.32669      -1.5559   \n",
              "\n",
              "   Heuristic1  Heuristic2  Heuristic3  Heuristic4  Heuristic5  Heuristic0  \n",
              "0        -1.0        -1.0        -1.0        -1.0        -1.0         1.0  \n",
              "1         1.0        -1.0        -1.0        -1.0        -1.0        -1.0  \n",
              "2        -1.0        -1.0        -1.0        -1.0        -1.0         1.0  \n",
              "3        -1.0        -1.0        -1.0        -1.0        -1.0         1.0  \n",
              "4        -1.0        -1.0        -1.0        -1.0        -1.0         1.0  \n",
              "\n",
              "[5 rows x 57 columns]"
            ],
            "text/html": [
              "\n",
              "  <div id=\"df-c185b4fd-2ae5-4f62-9ed0-34c0f393fe24\">\n",
              "    <div class=\"colab-df-container\">\n",
              "      <div>\n",
              "<style scoped>\n",
              "    .dataframe tbody tr th:only-of-type {\n",
              "        vertical-align: middle;\n",
              "    }\n",
              "\n",
              "    .dataframe tbody tr th {\n",
              "        vertical-align: top;\n",
              "    }\n",
              "\n",
              "    .dataframe thead th {\n",
              "        text-align: right;\n",
              "    }\n",
              "</style>\n",
              "<table border=\"1\" class=\"dataframe\">\n",
              "  <thead>\n",
              "    <tr style=\"text-align: right;\">\n",
              "      <th></th>\n",
              "      <th>Stat_F1</th>\n",
              "      <th>Stat_F2</th>\n",
              "      <th>Stat_F3</th>\n",
              "      <th>Stat_F4</th>\n",
              "      <th>Stat_F5</th>\n",
              "      <th>Stat_F6</th>\n",
              "      <th>Stat_F7</th>\n",
              "      <th>Stat_F8</th>\n",
              "      <th>Stat_F9</th>\n",
              "      <th>Stat_F10</th>\n",
              "      <th>...</th>\n",
              "      <th>Dynamic_F35</th>\n",
              "      <th>Dynamic_F36</th>\n",
              "      <th>Dynamic_F37</th>\n",
              "      <th>Dynamic_F38</th>\n",
              "      <th>Heuristic1</th>\n",
              "      <th>Heuristic2</th>\n",
              "      <th>Heuristic3</th>\n",
              "      <th>Heuristic4</th>\n",
              "      <th>Heuristic5</th>\n",
              "      <th>Heuristic0</th>\n",
              "    </tr>\n",
              "  </thead>\n",
              "  <tbody>\n",
              "    <tr>\n",
              "      <th>0</th>\n",
              "      <td>1.4895</td>\n",
              "      <td>0.81688</td>\n",
              "      <td>2.1168</td>\n",
              "      <td>1.7836</td>\n",
              "      <td>1.5346</td>\n",
              "      <td>-0.30543</td>\n",
              "      <td>-1.2477</td>\n",
              "      <td>-0.14537</td>\n",
              "      <td>-0.59356</td>\n",
              "      <td>-0.23316</td>\n",
              "      <td>...</td>\n",
              "      <td>-0.48278</td>\n",
              "      <td>1.4630</td>\n",
              "      <td>0.27015</td>\n",
              "      <td>-1.5559</td>\n",
              "      <td>-1.0</td>\n",
              "      <td>-1.0</td>\n",
              "      <td>-1.0</td>\n",
              "      <td>-1.0</td>\n",
              "      <td>-1.0</td>\n",
              "      <td>1.0</td>\n",
              "    </tr>\n",
              "    <tr>\n",
              "      <th>1</th>\n",
              "      <td>1.4895</td>\n",
              "      <td>0.81688</td>\n",
              "      <td>2.1168</td>\n",
              "      <td>1.7895</td>\n",
              "      <td>1.5403</td>\n",
              "      <td>-0.31850</td>\n",
              "      <td>-1.2477</td>\n",
              "      <td>-0.14537</td>\n",
              "      <td>-0.59356</td>\n",
              "      <td>-0.23316</td>\n",
              "      <td>...</td>\n",
              "      <td>-0.48278</td>\n",
              "      <td>1.4801</td>\n",
              "      <td>0.21361</td>\n",
              "      <td>-1.5559</td>\n",
              "      <td>1.0</td>\n",
              "      <td>-1.0</td>\n",
              "      <td>-1.0</td>\n",
              "      <td>-1.0</td>\n",
              "      <td>-1.0</td>\n",
              "      <td>-1.0</td>\n",
              "    </tr>\n",
              "    <tr>\n",
              "      <th>2</th>\n",
              "      <td>1.4895</td>\n",
              "      <td>0.81688</td>\n",
              "      <td>2.1168</td>\n",
              "      <td>1.7836</td>\n",
              "      <td>1.5346</td>\n",
              "      <td>-0.30543</td>\n",
              "      <td>-1.2477</td>\n",
              "      <td>-0.14537</td>\n",
              "      <td>-0.59356</td>\n",
              "      <td>-0.23316</td>\n",
              "      <td>...</td>\n",
              "      <td>-0.48278</td>\n",
              "      <td>1.4744</td>\n",
              "      <td>0.23245</td>\n",
              "      <td>-1.5559</td>\n",
              "      <td>-1.0</td>\n",
              "      <td>-1.0</td>\n",
              "      <td>-1.0</td>\n",
              "      <td>-1.0</td>\n",
              "      <td>-1.0</td>\n",
              "      <td>1.0</td>\n",
              "    </tr>\n",
              "    <tr>\n",
              "      <th>3</th>\n",
              "      <td>1.4895</td>\n",
              "      <td>0.81688</td>\n",
              "      <td>2.1168</td>\n",
              "      <td>1.7836</td>\n",
              "      <td>1.5346</td>\n",
              "      <td>-0.30543</td>\n",
              "      <td>-1.2477</td>\n",
              "      <td>-0.14537</td>\n",
              "      <td>-0.59356</td>\n",
              "      <td>-0.23316</td>\n",
              "      <td>...</td>\n",
              "      <td>-0.48278</td>\n",
              "      <td>1.4401</td>\n",
              "      <td>0.34553</td>\n",
              "      <td>-1.5559</td>\n",
              "      <td>-1.0</td>\n",
              "      <td>-1.0</td>\n",
              "      <td>-1.0</td>\n",
              "      <td>-1.0</td>\n",
              "      <td>-1.0</td>\n",
              "      <td>1.0</td>\n",
              "    </tr>\n",
              "    <tr>\n",
              "      <th>4</th>\n",
              "      <td>1.4895</td>\n",
              "      <td>0.81688</td>\n",
              "      <td>2.1168</td>\n",
              "      <td>1.7836</td>\n",
              "      <td>1.5346</td>\n",
              "      <td>-0.30543</td>\n",
              "      <td>-1.2477</td>\n",
              "      <td>-0.14537</td>\n",
              "      <td>-0.59356</td>\n",
              "      <td>-0.23316</td>\n",
              "      <td>...</td>\n",
              "      <td>-0.48278</td>\n",
              "      <td>1.4458</td>\n",
              "      <td>0.32669</td>\n",
              "      <td>-1.5559</td>\n",
              "      <td>-1.0</td>\n",
              "      <td>-1.0</td>\n",
              "      <td>-1.0</td>\n",
              "      <td>-1.0</td>\n",
              "      <td>-1.0</td>\n",
              "      <td>1.0</td>\n",
              "    </tr>\n",
              "  </tbody>\n",
              "</table>\n",
              "<p>5 rows × 57 columns</p>\n",
              "</div>\n",
              "      <button class=\"colab-df-convert\" onclick=\"convertToInteractive('df-c185b4fd-2ae5-4f62-9ed0-34c0f393fe24')\"\n",
              "              title=\"Convert this dataframe to an interactive table.\"\n",
              "              style=\"display:none;\">\n",
              "        \n",
              "  <svg xmlns=\"http://www.w3.org/2000/svg\" height=\"24px\"viewBox=\"0 0 24 24\"\n",
              "       width=\"24px\">\n",
              "    <path d=\"M0 0h24v24H0V0z\" fill=\"none\"/>\n",
              "    <path d=\"M18.56 5.44l.94 2.06.94-2.06 2.06-.94-2.06-.94-.94-2.06-.94 2.06-2.06.94zm-11 1L8.5 8.5l.94-2.06 2.06-.94-2.06-.94L8.5 2.5l-.94 2.06-2.06.94zm10 10l.94 2.06.94-2.06 2.06-.94-2.06-.94-.94-2.06-.94 2.06-2.06.94z\"/><path d=\"M17.41 7.96l-1.37-1.37c-.4-.4-.92-.59-1.43-.59-.52 0-1.04.2-1.43.59L10.3 9.45l-7.72 7.72c-.78.78-.78 2.05 0 2.83L4 21.41c.39.39.9.59 1.41.59.51 0 1.02-.2 1.41-.59l7.78-7.78 2.81-2.81c.8-.78.8-2.07 0-2.86zM5.41 20L4 18.59l7.72-7.72 1.47 1.35L5.41 20z\"/>\n",
              "  </svg>\n",
              "      </button>\n",
              "      \n",
              "  <style>\n",
              "    .colab-df-container {\n",
              "      display:flex;\n",
              "      flex-wrap:wrap;\n",
              "      gap: 12px;\n",
              "    }\n",
              "\n",
              "    .colab-df-convert {\n",
              "      background-color: #E8F0FE;\n",
              "      border: none;\n",
              "      border-radius: 50%;\n",
              "      cursor: pointer;\n",
              "      display: none;\n",
              "      fill: #1967D2;\n",
              "      height: 32px;\n",
              "      padding: 0 0 0 0;\n",
              "      width: 32px;\n",
              "    }\n",
              "\n",
              "    .colab-df-convert:hover {\n",
              "      background-color: #E2EBFA;\n",
              "      box-shadow: 0px 1px 2px rgba(60, 64, 67, 0.3), 0px 1px 3px 1px rgba(60, 64, 67, 0.15);\n",
              "      fill: #174EA6;\n",
              "    }\n",
              "\n",
              "    [theme=dark] .colab-df-convert {\n",
              "      background-color: #3B4455;\n",
              "      fill: #D2E3FC;\n",
              "    }\n",
              "\n",
              "    [theme=dark] .colab-df-convert:hover {\n",
              "      background-color: #434B5C;\n",
              "      box-shadow: 0px 1px 3px 1px rgba(0, 0, 0, 0.15);\n",
              "      filter: drop-shadow(0px 1px 2px rgba(0, 0, 0, 0.3));\n",
              "      fill: #FFFFFF;\n",
              "    }\n",
              "  </style>\n",
              "\n",
              "      <script>\n",
              "        const buttonEl =\n",
              "          document.querySelector('#df-c185b4fd-2ae5-4f62-9ed0-34c0f393fe24 button.colab-df-convert');\n",
              "        buttonEl.style.display =\n",
              "          google.colab.kernel.accessAllowed ? 'block' : 'none';\n",
              "\n",
              "        async function convertToInteractive(key) {\n",
              "          const element = document.querySelector('#df-c185b4fd-2ae5-4f62-9ed0-34c0f393fe24');\n",
              "          const dataTable =\n",
              "            await google.colab.kernel.invokeFunction('convertToInteractive',\n",
              "                                                     [key], {});\n",
              "          if (!dataTable) return;\n",
              "\n",
              "          const docLinkHtml = 'Like what you see? Visit the ' +\n",
              "            '<a target=\"_blank\" href=https://colab.research.google.com/notebooks/data_table.ipynb>data table notebook</a>'\n",
              "            + ' to learn more about interactive tables.';\n",
              "          element.innerHTML = '';\n",
              "          dataTable['output_type'] = 'display_data';\n",
              "          await google.colab.output.renderOutput(dataTable, element);\n",
              "          const docLink = document.createElement('div');\n",
              "          docLink.innerHTML = docLinkHtml;\n",
              "          element.appendChild(docLink);\n",
              "        }\n",
              "      </script>\n",
              "    </div>\n",
              "  </div>\n",
              "  "
            ]
          },
          "metadata": {},
          "execution_count": 38
        }
      ]
    },
    {
      "cell_type": "code",
      "source": [
        "all_data.info()"
      ],
      "metadata": {
        "colab": {
          "base_uri": "https://localhost:8080/",
          "height": 0
        },
        "id": "Nysjw7vG62aA",
        "outputId": "f22396bd-641e-4bf7-c97b-73eb1b72454c"
      },
      "execution_count": 39,
      "outputs": [
        {
          "output_type": "stream",
          "name": "stdout",
          "text": [
            "<class 'pandas.core.frame.DataFrame'>\n",
            "Int64Index: 6118 entries, 0 to 1529\n",
            "Data columns (total 57 columns):\n",
            " #   Column       Non-Null Count  Dtype  \n",
            "---  ------       --------------  -----  \n",
            " 0   Stat_F1      6118 non-null   float64\n",
            " 1   Stat_F2      6118 non-null   float64\n",
            " 2   Stat_F3      6118 non-null   float64\n",
            " 3   Stat_F4      6118 non-null   float64\n",
            " 4   Stat_F5      6118 non-null   float64\n",
            " 5   Stat_F6      6118 non-null   float64\n",
            " 6   Stat_F7      6118 non-null   float64\n",
            " 7   Stat_F8      6118 non-null   float64\n",
            " 8   Stat_F9      6118 non-null   float64\n",
            " 9   Stat_F10     6118 non-null   float64\n",
            " 10  Stat_F11     6118 non-null   float64\n",
            " 11  Stat_F12     6118 non-null   float64\n",
            " 12  Stat_F13     6118 non-null   float64\n",
            " 13  Dynamic_F1   6118 non-null   float64\n",
            " 14  Dynamic_F2   6118 non-null   float64\n",
            " 15  Dynamic_F3   6118 non-null   float64\n",
            " 16  Dynamic_F4   6118 non-null   float64\n",
            " 17  Dynamic_F5   6118 non-null   float64\n",
            " 18  Dynamic_F6   6118 non-null   float64\n",
            " 19  Dynamic_F7   6118 non-null   float64\n",
            " 20  Dynamic_F8   6118 non-null   float64\n",
            " 21  Dynamic_F9   6118 non-null   float64\n",
            " 22  Dynamic_F10  6118 non-null   float64\n",
            " 23  Dynamic_F11  6118 non-null   float64\n",
            " 24  Dynamic_F12  6118 non-null   float64\n",
            " 25  Dynamic_F13  6118 non-null   float64\n",
            " 26  Dynamic_F14  6118 non-null   float64\n",
            " 27  Dynamic_F15  6118 non-null   float64\n",
            " 28  Dynamic_F16  6118 non-null   float64\n",
            " 29  Dynamic_F17  6118 non-null   float64\n",
            " 30  Dynamic_F18  6118 non-null   float64\n",
            " 31  Dynamic_F19  6118 non-null   float64\n",
            " 32  Dynamic_F20  6118 non-null   float64\n",
            " 33  Dynamic_F21  6118 non-null   float64\n",
            " 34  Dynamic_F22  6118 non-null   float64\n",
            " 35  Dynamic_F23  6118 non-null   float64\n",
            " 36  Dynamic_F24  6118 non-null   float64\n",
            " 37  Dynamic_F25  6118 non-null   float64\n",
            " 38  Dynamic_F26  6118 non-null   float64\n",
            " 39  Dynamic_F27  6118 non-null   float64\n",
            " 40  Dynamic_F28  6118 non-null   float64\n",
            " 41  Dynamic_F29  6118 non-null   float64\n",
            " 42  Dynamic_F30  6118 non-null   float64\n",
            " 43  Dynamic_F31  6118 non-null   float64\n",
            " 44  Dynamic_F32  6118 non-null   float64\n",
            " 45  Dynamic_F33  6118 non-null   float64\n",
            " 46  Dynamic_F34  6118 non-null   float64\n",
            " 47  Dynamic_F35  6118 non-null   float64\n",
            " 48  Dynamic_F36  6118 non-null   float64\n",
            " 49  Dynamic_F37  6118 non-null   float64\n",
            " 50  Dynamic_F38  6118 non-null   float64\n",
            " 51  Heuristic1   6118 non-null   float64\n",
            " 52  Heuristic2   6118 non-null   float64\n",
            " 53  Heuristic3   6118 non-null   float64\n",
            " 54  Heuristic4   6118 non-null   float64\n",
            " 55  Heuristic5   6118 non-null   float64\n",
            " 56  Heuristic0   6118 non-null   float64\n",
            "dtypes: float64(57)\n",
            "memory usage: 2.7 MB\n"
          ]
        }
      ]
    },
    {
      "cell_type": "code",
      "source": [
        "all_data.describe()"
      ],
      "metadata": {
        "colab": {
          "base_uri": "https://localhost:8080/",
          "height": 393
        },
        "id": "U92n7kq99P5Z",
        "outputId": "49f7b04e-e398-4416-9836-c526bb29b5a8"
      },
      "execution_count": 40,
      "outputs": [
        {
          "output_type": "execute_result",
          "data": {
            "text/plain": [
              "           Stat_F1      Stat_F2      Stat_F3      Stat_F4      Stat_F5  \\\n",
              "count  6118.000000  6118.000000  6118.000000  6118.000000  6118.000000   \n",
              "mean      0.040513     0.052955    -0.000470     0.050555     0.049217   \n",
              "std       0.977642     0.980589     0.998545     0.979385     0.972786   \n",
              "min      -1.105200    -3.735600    -0.984110    -1.065200    -1.240100   \n",
              "25%      -0.748365    -0.229907    -0.605570    -0.694180    -0.721762   \n",
              "50%      -0.372350     0.425360    -0.474750    -0.323190    -0.336315   \n",
              "75%       0.742862     0.831520     0.256640     0.729960     0.562390   \n",
              "max       2.009400     0.831520     2.738100     2.644800     2.366200   \n",
              "\n",
              "           Stat_F6      Stat_F7      Stat_F8      Stat_F9     Stat_F10  ...  \\\n",
              "count  6118.000000  6118.000000  6118.000000  6118.000000  6118.000000  ...   \n",
              "mean     -0.007497    -0.040911     0.001915    -0.011851     0.001695  ...   \n",
              "std       0.980862     0.971879     0.994724     0.968021     1.006563  ...   \n",
              "min      -0.880580    -1.763800    -0.826370    -0.709950    -0.913580  ...   \n",
              "25%      -0.618170    -0.960320    -0.417770    -0.364737    -0.641410  ...   \n",
              "50%      -0.305430     0.310500    -0.281570    -0.201890    -0.369240  ...   \n",
              "75%       0.075464     0.699510     0.399430     0.156060    -0.097070  ...   \n",
              "max       7.194500     1.439300    32.270000    15.495000    10.654000  ...   \n",
              "\n",
              "       Dynamic_F35  Dynamic_F36  Dynamic_F37  Dynamic_F38   Heuristic1  \\\n",
              "count  6118.000000  6118.000000  6118.000000  6118.000000  6118.000000   \n",
              "mean     -0.006171     0.038134    -0.003634    -0.037294    -0.644001   \n",
              "std       0.991428     0.978672     1.004385     0.983310     0.765087   \n",
              "min      -0.489900    -0.784590    -0.464860    -2.131800    -1.000000   \n",
              "25%      -0.489900    -0.644062    -0.464860    -0.388068    -1.000000   \n",
              "50%      -0.435790    -0.385305    -0.305720     0.330680    -1.000000   \n",
              "75%      -0.235707     0.202157     0.087767     0.658180    -1.000000   \n",
              "max       3.298200     2.257900     9.561500     0.932190     1.000000   \n",
              "\n",
              "        Heuristic2   Heuristic3   Heuristic4   Heuristic5   Heuristic0  \n",
              "count  6118.000000  6118.000000  6118.000000  6118.000000  6118.000000  \n",
              "mean     -0.841125    -0.755476    -0.798300    -0.796012    -0.165087  \n",
              "std       0.540886     0.655230     0.602309     0.605331     0.986360  \n",
              "min      -1.000000    -1.000000    -1.000000    -1.000000    -1.000000  \n",
              "25%      -1.000000    -1.000000    -1.000000    -1.000000    -1.000000  \n",
              "50%      -1.000000    -1.000000    -1.000000    -1.000000    -1.000000  \n",
              "75%      -1.000000    -1.000000    -1.000000    -1.000000     1.000000  \n",
              "max       1.000000     1.000000     1.000000     1.000000     1.000000  \n",
              "\n",
              "[8 rows x 57 columns]"
            ],
            "text/html": [
              "\n",
              "  <div id=\"df-4594c6e2-b157-406b-bcbf-2bf4d9f0b7be\">\n",
              "    <div class=\"colab-df-container\">\n",
              "      <div>\n",
              "<style scoped>\n",
              "    .dataframe tbody tr th:only-of-type {\n",
              "        vertical-align: middle;\n",
              "    }\n",
              "\n",
              "    .dataframe tbody tr th {\n",
              "        vertical-align: top;\n",
              "    }\n",
              "\n",
              "    .dataframe thead th {\n",
              "        text-align: right;\n",
              "    }\n",
              "</style>\n",
              "<table border=\"1\" class=\"dataframe\">\n",
              "  <thead>\n",
              "    <tr style=\"text-align: right;\">\n",
              "      <th></th>\n",
              "      <th>Stat_F1</th>\n",
              "      <th>Stat_F2</th>\n",
              "      <th>Stat_F3</th>\n",
              "      <th>Stat_F4</th>\n",
              "      <th>Stat_F5</th>\n",
              "      <th>Stat_F6</th>\n",
              "      <th>Stat_F7</th>\n",
              "      <th>Stat_F8</th>\n",
              "      <th>Stat_F9</th>\n",
              "      <th>Stat_F10</th>\n",
              "      <th>...</th>\n",
              "      <th>Dynamic_F35</th>\n",
              "      <th>Dynamic_F36</th>\n",
              "      <th>Dynamic_F37</th>\n",
              "      <th>Dynamic_F38</th>\n",
              "      <th>Heuristic1</th>\n",
              "      <th>Heuristic2</th>\n",
              "      <th>Heuristic3</th>\n",
              "      <th>Heuristic4</th>\n",
              "      <th>Heuristic5</th>\n",
              "      <th>Heuristic0</th>\n",
              "    </tr>\n",
              "  </thead>\n",
              "  <tbody>\n",
              "    <tr>\n",
              "      <th>count</th>\n",
              "      <td>6118.000000</td>\n",
              "      <td>6118.000000</td>\n",
              "      <td>6118.000000</td>\n",
              "      <td>6118.000000</td>\n",
              "      <td>6118.000000</td>\n",
              "      <td>6118.000000</td>\n",
              "      <td>6118.000000</td>\n",
              "      <td>6118.000000</td>\n",
              "      <td>6118.000000</td>\n",
              "      <td>6118.000000</td>\n",
              "      <td>...</td>\n",
              "      <td>6118.000000</td>\n",
              "      <td>6118.000000</td>\n",
              "      <td>6118.000000</td>\n",
              "      <td>6118.000000</td>\n",
              "      <td>6118.000000</td>\n",
              "      <td>6118.000000</td>\n",
              "      <td>6118.000000</td>\n",
              "      <td>6118.000000</td>\n",
              "      <td>6118.000000</td>\n",
              "      <td>6118.000000</td>\n",
              "    </tr>\n",
              "    <tr>\n",
              "      <th>mean</th>\n",
              "      <td>0.040513</td>\n",
              "      <td>0.052955</td>\n",
              "      <td>-0.000470</td>\n",
              "      <td>0.050555</td>\n",
              "      <td>0.049217</td>\n",
              "      <td>-0.007497</td>\n",
              "      <td>-0.040911</td>\n",
              "      <td>0.001915</td>\n",
              "      <td>-0.011851</td>\n",
              "      <td>0.001695</td>\n",
              "      <td>...</td>\n",
              "      <td>-0.006171</td>\n",
              "      <td>0.038134</td>\n",
              "      <td>-0.003634</td>\n",
              "      <td>-0.037294</td>\n",
              "      <td>-0.644001</td>\n",
              "      <td>-0.841125</td>\n",
              "      <td>-0.755476</td>\n",
              "      <td>-0.798300</td>\n",
              "      <td>-0.796012</td>\n",
              "      <td>-0.165087</td>\n",
              "    </tr>\n",
              "    <tr>\n",
              "      <th>std</th>\n",
              "      <td>0.977642</td>\n",
              "      <td>0.980589</td>\n",
              "      <td>0.998545</td>\n",
              "      <td>0.979385</td>\n",
              "      <td>0.972786</td>\n",
              "      <td>0.980862</td>\n",
              "      <td>0.971879</td>\n",
              "      <td>0.994724</td>\n",
              "      <td>0.968021</td>\n",
              "      <td>1.006563</td>\n",
              "      <td>...</td>\n",
              "      <td>0.991428</td>\n",
              "      <td>0.978672</td>\n",
              "      <td>1.004385</td>\n",
              "      <td>0.983310</td>\n",
              "      <td>0.765087</td>\n",
              "      <td>0.540886</td>\n",
              "      <td>0.655230</td>\n",
              "      <td>0.602309</td>\n",
              "      <td>0.605331</td>\n",
              "      <td>0.986360</td>\n",
              "    </tr>\n",
              "    <tr>\n",
              "      <th>min</th>\n",
              "      <td>-1.105200</td>\n",
              "      <td>-3.735600</td>\n",
              "      <td>-0.984110</td>\n",
              "      <td>-1.065200</td>\n",
              "      <td>-1.240100</td>\n",
              "      <td>-0.880580</td>\n",
              "      <td>-1.763800</td>\n",
              "      <td>-0.826370</td>\n",
              "      <td>-0.709950</td>\n",
              "      <td>-0.913580</td>\n",
              "      <td>...</td>\n",
              "      <td>-0.489900</td>\n",
              "      <td>-0.784590</td>\n",
              "      <td>-0.464860</td>\n",
              "      <td>-2.131800</td>\n",
              "      <td>-1.000000</td>\n",
              "      <td>-1.000000</td>\n",
              "      <td>-1.000000</td>\n",
              "      <td>-1.000000</td>\n",
              "      <td>-1.000000</td>\n",
              "      <td>-1.000000</td>\n",
              "    </tr>\n",
              "    <tr>\n",
              "      <th>25%</th>\n",
              "      <td>-0.748365</td>\n",
              "      <td>-0.229907</td>\n",
              "      <td>-0.605570</td>\n",
              "      <td>-0.694180</td>\n",
              "      <td>-0.721762</td>\n",
              "      <td>-0.618170</td>\n",
              "      <td>-0.960320</td>\n",
              "      <td>-0.417770</td>\n",
              "      <td>-0.364737</td>\n",
              "      <td>-0.641410</td>\n",
              "      <td>...</td>\n",
              "      <td>-0.489900</td>\n",
              "      <td>-0.644062</td>\n",
              "      <td>-0.464860</td>\n",
              "      <td>-0.388068</td>\n",
              "      <td>-1.000000</td>\n",
              "      <td>-1.000000</td>\n",
              "      <td>-1.000000</td>\n",
              "      <td>-1.000000</td>\n",
              "      <td>-1.000000</td>\n",
              "      <td>-1.000000</td>\n",
              "    </tr>\n",
              "    <tr>\n",
              "      <th>50%</th>\n",
              "      <td>-0.372350</td>\n",
              "      <td>0.425360</td>\n",
              "      <td>-0.474750</td>\n",
              "      <td>-0.323190</td>\n",
              "      <td>-0.336315</td>\n",
              "      <td>-0.305430</td>\n",
              "      <td>0.310500</td>\n",
              "      <td>-0.281570</td>\n",
              "      <td>-0.201890</td>\n",
              "      <td>-0.369240</td>\n",
              "      <td>...</td>\n",
              "      <td>-0.435790</td>\n",
              "      <td>-0.385305</td>\n",
              "      <td>-0.305720</td>\n",
              "      <td>0.330680</td>\n",
              "      <td>-1.000000</td>\n",
              "      <td>-1.000000</td>\n",
              "      <td>-1.000000</td>\n",
              "      <td>-1.000000</td>\n",
              "      <td>-1.000000</td>\n",
              "      <td>-1.000000</td>\n",
              "    </tr>\n",
              "    <tr>\n",
              "      <th>75%</th>\n",
              "      <td>0.742862</td>\n",
              "      <td>0.831520</td>\n",
              "      <td>0.256640</td>\n",
              "      <td>0.729960</td>\n",
              "      <td>0.562390</td>\n",
              "      <td>0.075464</td>\n",
              "      <td>0.699510</td>\n",
              "      <td>0.399430</td>\n",
              "      <td>0.156060</td>\n",
              "      <td>-0.097070</td>\n",
              "      <td>...</td>\n",
              "      <td>-0.235707</td>\n",
              "      <td>0.202157</td>\n",
              "      <td>0.087767</td>\n",
              "      <td>0.658180</td>\n",
              "      <td>-1.000000</td>\n",
              "      <td>-1.000000</td>\n",
              "      <td>-1.000000</td>\n",
              "      <td>-1.000000</td>\n",
              "      <td>-1.000000</td>\n",
              "      <td>1.000000</td>\n",
              "    </tr>\n",
              "    <tr>\n",
              "      <th>max</th>\n",
              "      <td>2.009400</td>\n",
              "      <td>0.831520</td>\n",
              "      <td>2.738100</td>\n",
              "      <td>2.644800</td>\n",
              "      <td>2.366200</td>\n",
              "      <td>7.194500</td>\n",
              "      <td>1.439300</td>\n",
              "      <td>32.270000</td>\n",
              "      <td>15.495000</td>\n",
              "      <td>10.654000</td>\n",
              "      <td>...</td>\n",
              "      <td>3.298200</td>\n",
              "      <td>2.257900</td>\n",
              "      <td>9.561500</td>\n",
              "      <td>0.932190</td>\n",
              "      <td>1.000000</td>\n",
              "      <td>1.000000</td>\n",
              "      <td>1.000000</td>\n",
              "      <td>1.000000</td>\n",
              "      <td>1.000000</td>\n",
              "      <td>1.000000</td>\n",
              "    </tr>\n",
              "  </tbody>\n",
              "</table>\n",
              "<p>8 rows × 57 columns</p>\n",
              "</div>\n",
              "      <button class=\"colab-df-convert\" onclick=\"convertToInteractive('df-4594c6e2-b157-406b-bcbf-2bf4d9f0b7be')\"\n",
              "              title=\"Convert this dataframe to an interactive table.\"\n",
              "              style=\"display:none;\">\n",
              "        \n",
              "  <svg xmlns=\"http://www.w3.org/2000/svg\" height=\"24px\"viewBox=\"0 0 24 24\"\n",
              "       width=\"24px\">\n",
              "    <path d=\"M0 0h24v24H0V0z\" fill=\"none\"/>\n",
              "    <path d=\"M18.56 5.44l.94 2.06.94-2.06 2.06-.94-2.06-.94-.94-2.06-.94 2.06-2.06.94zm-11 1L8.5 8.5l.94-2.06 2.06-.94-2.06-.94L8.5 2.5l-.94 2.06-2.06.94zm10 10l.94 2.06.94-2.06 2.06-.94-2.06-.94-.94-2.06-.94 2.06-2.06.94z\"/><path d=\"M17.41 7.96l-1.37-1.37c-.4-.4-.92-.59-1.43-.59-.52 0-1.04.2-1.43.59L10.3 9.45l-7.72 7.72c-.78.78-.78 2.05 0 2.83L4 21.41c.39.39.9.59 1.41.59.51 0 1.02-.2 1.41-.59l7.78-7.78 2.81-2.81c.8-.78.8-2.07 0-2.86zM5.41 20L4 18.59l7.72-7.72 1.47 1.35L5.41 20z\"/>\n",
              "  </svg>\n",
              "      </button>\n",
              "      \n",
              "  <style>\n",
              "    .colab-df-container {\n",
              "      display:flex;\n",
              "      flex-wrap:wrap;\n",
              "      gap: 12px;\n",
              "    }\n",
              "\n",
              "    .colab-df-convert {\n",
              "      background-color: #E8F0FE;\n",
              "      border: none;\n",
              "      border-radius: 50%;\n",
              "      cursor: pointer;\n",
              "      display: none;\n",
              "      fill: #1967D2;\n",
              "      height: 32px;\n",
              "      padding: 0 0 0 0;\n",
              "      width: 32px;\n",
              "    }\n",
              "\n",
              "    .colab-df-convert:hover {\n",
              "      background-color: #E2EBFA;\n",
              "      box-shadow: 0px 1px 2px rgba(60, 64, 67, 0.3), 0px 1px 3px 1px rgba(60, 64, 67, 0.15);\n",
              "      fill: #174EA6;\n",
              "    }\n",
              "\n",
              "    [theme=dark] .colab-df-convert {\n",
              "      background-color: #3B4455;\n",
              "      fill: #D2E3FC;\n",
              "    }\n",
              "\n",
              "    [theme=dark] .colab-df-convert:hover {\n",
              "      background-color: #434B5C;\n",
              "      box-shadow: 0px 1px 3px 1px rgba(0, 0, 0, 0.15);\n",
              "      filter: drop-shadow(0px 1px 2px rgba(0, 0, 0, 0.3));\n",
              "      fill: #FFFFFF;\n",
              "    }\n",
              "  </style>\n",
              "\n",
              "      <script>\n",
              "        const buttonEl =\n",
              "          document.querySelector('#df-4594c6e2-b157-406b-bcbf-2bf4d9f0b7be button.colab-df-convert');\n",
              "        buttonEl.style.display =\n",
              "          google.colab.kernel.accessAllowed ? 'block' : 'none';\n",
              "\n",
              "        async function convertToInteractive(key) {\n",
              "          const element = document.querySelector('#df-4594c6e2-b157-406b-bcbf-2bf4d9f0b7be');\n",
              "          const dataTable =\n",
              "            await google.colab.kernel.invokeFunction('convertToInteractive',\n",
              "                                                     [key], {});\n",
              "          if (!dataTable) return;\n",
              "\n",
              "          const docLinkHtml = 'Like what you see? Visit the ' +\n",
              "            '<a target=\"_blank\" href=https://colab.research.google.com/notebooks/data_table.ipynb>data table notebook</a>'\n",
              "            + ' to learn more about interactive tables.';\n",
              "          element.innerHTML = '';\n",
              "          dataTable['output_type'] = 'display_data';\n",
              "          await google.colab.output.renderOutput(dataTable, element);\n",
              "          const docLink = document.createElement('div');\n",
              "          docLink.innerHTML = docLinkHtml;\n",
              "          element.appendChild(docLink);\n",
              "        }\n",
              "      </script>\n",
              "    </div>\n",
              "  </div>\n",
              "  "
            ]
          },
          "metadata": {},
          "execution_count": 40
        }
      ]
    },
    {
      "cell_type": "markdown",
      "source": [
        "**Seperating output columns**"
      ],
      "metadata": {
        "id": "8NWLcT_T5iVs"
      }
    },
    {
      "cell_type": "code",
      "source": [
        "test_data = all_data[['Heuristic1' ,'Heuristic2' ,'Heuristic3' ,'Heuristic4' ,'Heuristic5', 'Heuristic0']]"
      ],
      "metadata": {
        "id": "U7OBIqnKU0hg"
      },
      "execution_count": 41,
      "outputs": []
    },
    {
      "cell_type": "markdown",
      "source": [
        "**Converting multiple output columns to a single column**"
      ],
      "metadata": {
        "id": "ON9umTCn51-p"
      }
    },
    {
      "cell_type": "code",
      "source": [
        "test_data['Heuristic_no.']  = 0\n",
        "for i in range(all_data.shape[0]):\n",
        "  for j in range(6):\n",
        "    if (test_data.iloc[i,j] == 1):\n",
        "      test_data.iloc[i,6] = (j+1)%6"
      ],
      "metadata": {
        "colab": {
          "base_uri": "https://localhost:8080/",
          "height": 0
        },
        "id": "3ufVZgfkTh7a",
        "outputId": "368df05c-57ea-4a66-f768-64ca51c30f31"
      },
      "execution_count": 42,
      "outputs": [
        {
          "output_type": "stream",
          "name": "stderr",
          "text": [
            "<ipython-input-42-e7e0f9dd4731>:1: SettingWithCopyWarning: \n",
            "A value is trying to be set on a copy of a slice from a DataFrame.\n",
            "Try using .loc[row_indexer,col_indexer] = value instead\n",
            "\n",
            "See the caveats in the documentation: https://pandas.pydata.org/pandas-docs/stable/user_guide/indexing.html#returning-a-view-versus-a-copy\n",
            "  test_data['Heuristic_no.']  = 0\n"
          ]
        }
      ]
    },
    {
      "cell_type": "code",
      "source": [
        "test_data = test_data['Heuristic_no.']\n",
        "test_data = pd.DataFrame(test_data, columns =['Heuristic_no.'])"
      ],
      "metadata": {
        "id": "Xi5ERoj2-ko9"
      },
      "execution_count": 43,
      "outputs": []
    },
    {
      "cell_type": "code",
      "source": [
        "test_data.tail()"
      ],
      "metadata": {
        "colab": {
          "base_uri": "https://localhost:8080/",
          "height": 206
        },
        "id": "OCmKMw6FVOG7",
        "outputId": "ac64ddde-132b-4acb-c095-785025c38ee7"
      },
      "execution_count": 44,
      "outputs": [
        {
          "output_type": "execute_result",
          "data": {
            "text/plain": [
              "      Heuristic_no.\n",
              "1525              0\n",
              "1526              0\n",
              "1527              5\n",
              "1528              0\n",
              "1529              3"
            ],
            "text/html": [
              "\n",
              "  <div id=\"df-9af13a8f-ce61-4207-94c1-7370c02f82b8\">\n",
              "    <div class=\"colab-df-container\">\n",
              "      <div>\n",
              "<style scoped>\n",
              "    .dataframe tbody tr th:only-of-type {\n",
              "        vertical-align: middle;\n",
              "    }\n",
              "\n",
              "    .dataframe tbody tr th {\n",
              "        vertical-align: top;\n",
              "    }\n",
              "\n",
              "    .dataframe thead th {\n",
              "        text-align: right;\n",
              "    }\n",
              "</style>\n",
              "<table border=\"1\" class=\"dataframe\">\n",
              "  <thead>\n",
              "    <tr style=\"text-align: right;\">\n",
              "      <th></th>\n",
              "      <th>Heuristic_no.</th>\n",
              "    </tr>\n",
              "  </thead>\n",
              "  <tbody>\n",
              "    <tr>\n",
              "      <th>1525</th>\n",
              "      <td>0</td>\n",
              "    </tr>\n",
              "    <tr>\n",
              "      <th>1526</th>\n",
              "      <td>0</td>\n",
              "    </tr>\n",
              "    <tr>\n",
              "      <th>1527</th>\n",
              "      <td>5</td>\n",
              "    </tr>\n",
              "    <tr>\n",
              "      <th>1528</th>\n",
              "      <td>0</td>\n",
              "    </tr>\n",
              "    <tr>\n",
              "      <th>1529</th>\n",
              "      <td>3</td>\n",
              "    </tr>\n",
              "  </tbody>\n",
              "</table>\n",
              "</div>\n",
              "      <button class=\"colab-df-convert\" onclick=\"convertToInteractive('df-9af13a8f-ce61-4207-94c1-7370c02f82b8')\"\n",
              "              title=\"Convert this dataframe to an interactive table.\"\n",
              "              style=\"display:none;\">\n",
              "        \n",
              "  <svg xmlns=\"http://www.w3.org/2000/svg\" height=\"24px\"viewBox=\"0 0 24 24\"\n",
              "       width=\"24px\">\n",
              "    <path d=\"M0 0h24v24H0V0z\" fill=\"none\"/>\n",
              "    <path d=\"M18.56 5.44l.94 2.06.94-2.06 2.06-.94-2.06-.94-.94-2.06-.94 2.06-2.06.94zm-11 1L8.5 8.5l.94-2.06 2.06-.94-2.06-.94L8.5 2.5l-.94 2.06-2.06.94zm10 10l.94 2.06.94-2.06 2.06-.94-2.06-.94-.94-2.06-.94 2.06-2.06.94z\"/><path d=\"M17.41 7.96l-1.37-1.37c-.4-.4-.92-.59-1.43-.59-.52 0-1.04.2-1.43.59L10.3 9.45l-7.72 7.72c-.78.78-.78 2.05 0 2.83L4 21.41c.39.39.9.59 1.41.59.51 0 1.02-.2 1.41-.59l7.78-7.78 2.81-2.81c.8-.78.8-2.07 0-2.86zM5.41 20L4 18.59l7.72-7.72 1.47 1.35L5.41 20z\"/>\n",
              "  </svg>\n",
              "      </button>\n",
              "      \n",
              "  <style>\n",
              "    .colab-df-container {\n",
              "      display:flex;\n",
              "      flex-wrap:wrap;\n",
              "      gap: 12px;\n",
              "    }\n",
              "\n",
              "    .colab-df-convert {\n",
              "      background-color: #E8F0FE;\n",
              "      border: none;\n",
              "      border-radius: 50%;\n",
              "      cursor: pointer;\n",
              "      display: none;\n",
              "      fill: #1967D2;\n",
              "      height: 32px;\n",
              "      padding: 0 0 0 0;\n",
              "      width: 32px;\n",
              "    }\n",
              "\n",
              "    .colab-df-convert:hover {\n",
              "      background-color: #E2EBFA;\n",
              "      box-shadow: 0px 1px 2px rgba(60, 64, 67, 0.3), 0px 1px 3px 1px rgba(60, 64, 67, 0.15);\n",
              "      fill: #174EA6;\n",
              "    }\n",
              "\n",
              "    [theme=dark] .colab-df-convert {\n",
              "      background-color: #3B4455;\n",
              "      fill: #D2E3FC;\n",
              "    }\n",
              "\n",
              "    [theme=dark] .colab-df-convert:hover {\n",
              "      background-color: #434B5C;\n",
              "      box-shadow: 0px 1px 3px 1px rgba(0, 0, 0, 0.15);\n",
              "      filter: drop-shadow(0px 1px 2px rgba(0, 0, 0, 0.3));\n",
              "      fill: #FFFFFF;\n",
              "    }\n",
              "  </style>\n",
              "\n",
              "      <script>\n",
              "        const buttonEl =\n",
              "          document.querySelector('#df-9af13a8f-ce61-4207-94c1-7370c02f82b8 button.colab-df-convert');\n",
              "        buttonEl.style.display =\n",
              "          google.colab.kernel.accessAllowed ? 'block' : 'none';\n",
              "\n",
              "        async function convertToInteractive(key) {\n",
              "          const element = document.querySelector('#df-9af13a8f-ce61-4207-94c1-7370c02f82b8');\n",
              "          const dataTable =\n",
              "            await google.colab.kernel.invokeFunction('convertToInteractive',\n",
              "                                                     [key], {});\n",
              "          if (!dataTable) return;\n",
              "\n",
              "          const docLinkHtml = 'Like what you see? Visit the ' +\n",
              "            '<a target=\"_blank\" href=https://colab.research.google.com/notebooks/data_table.ipynb>data table notebook</a>'\n",
              "            + ' to learn more about interactive tables.';\n",
              "          element.innerHTML = '';\n",
              "          dataTable['output_type'] = 'display_data';\n",
              "          await google.colab.output.renderOutput(dataTable, element);\n",
              "          const docLink = document.createElement('div');\n",
              "          docLink.innerHTML = docLinkHtml;\n",
              "          element.appendChild(docLink);\n",
              "        }\n",
              "      </script>\n",
              "    </div>\n",
              "  </div>\n",
              "  "
            ]
          },
          "metadata": {},
          "execution_count": 44
        }
      ]
    },
    {
      "cell_type": "markdown",
      "source": [
        "**Feature Selection**"
      ],
      "metadata": {
        "id": "PqGoIc8iDPVm"
      }
    },
    {
      "cell_type": "markdown",
      "source": [
        "Determining number of features to be selected"
      ],
      "metadata": {
        "id": "shvNeeghV-_Q"
      }
    },
    {
      "cell_type": "code",
      "source": [
        "num_feature = round(math.log(all_data.shape[0],2),0)\n",
        "num_feature"
      ],
      "metadata": {
        "colab": {
          "base_uri": "https://localhost:8080/",
          "height": 0
        },
        "id": "JiEua2KAlkAe",
        "outputId": "beb56798-fe59-4493-d1fa-6a7d7a19674d"
      },
      "execution_count": 45,
      "outputs": [
        {
          "output_type": "execute_result",
          "data": {
            "text/plain": [
              "13.0"
            ]
          },
          "metadata": {},
          "execution_count": 45
        }
      ]
    },
    {
      "cell_type": "code",
      "source": [
        "full_train_data = all_data.iloc[:,:51]\n",
        "index_val = full_train_data.index"
      ],
      "metadata": {
        "id": "Ha06fQXnhBwU"
      },
      "execution_count": 46,
      "outputs": []
    },
    {
      "cell_type": "code",
      "source": [
        "all_data = SelectKBest(f_classif, k=int(num_feature)).fit_transform(full_train_data, test_data)"
      ],
      "metadata": {
        "id": "RIdxZWhkfCbK"
      },
      "execution_count": null,
      "outputs": []
    },
    {
      "cell_type": "code",
      "source": [
        "column_values = ['F1','F2','F3','F4','F5','F6','F7','F8','F9','F10','F11','F12','F13']\n",
        "all_data = pd.DataFrame(data = all_data, index = index_val, columns = column_values)"
      ],
      "metadata": {
        "id": "nItV341ciLoR"
      },
      "execution_count": 49,
      "outputs": []
    },
    {
      "cell_type": "markdown",
      "source": [
        "**Heat Map**\n",
        "\n",
        "Correlation among features"
      ],
      "metadata": {
        "id": "CDUhmLKOEcDS"
      }
    },
    {
      "cell_type": "code",
      "source": [
        "corr_matrix = all_data.corr()\n",
        "fig, ax = plt.subplots(figsize=(8,7))\n",
        "ax = sns.heatmap(corr_matrix,\n",
        " annot=True,\n",
        " linewidths=0.5,\n",
        " fmt=\".2f\",\n",
        " cmap=\"YlGnBu\");\n",
        "bottom, top = ax.get_ylim()"
      ],
      "metadata": {
        "colab": {
          "base_uri": "https://localhost:8080/",
          "height": 605
        },
        "id": "lWJuTNfoVgk4",
        "outputId": "3b5fe5b2-bdb3-4e2a-c936-4b37a6c57684"
      },
      "execution_count": 51,
      "outputs": [
        {
          "output_type": "display_data",
          "data": {
            "text/plain": [
              "<Figure size 800x700 with 2 Axes>"
            ],
            "image/png": "[encoded data removed]"
          },
          "metadata": {}
        }
      ]
    },
    {
      "cell_type": "code",
      "source": [
        "all_data = pd.concat([all_data, test_data], axis = 1)"
      ],
      "metadata": {
        "id": "LC1bCTs5EAw4"
      },
      "execution_count": 52,
      "outputs": []
    },
    {
      "cell_type": "code",
      "source": [
        "all_data.head()"
      ],
      "metadata": {
        "colab": {
          "base_uri": "https://localhost:8080/",
          "height": 206
        },
        "id": "DZIOrIOsEu5y",
        "outputId": "d66555ae-6137-4414-dee0-70cc71856ed1"
      },
      "execution_count": 53,
      "outputs": [
        {
          "output_type": "execute_result",
          "data": {
            "text/plain": [
              "       F1      F2       F3       F4       F5      F6       F7     F8      F9  \\\n",
              "0  1.5346 -1.2477 -0.23316  0.31218 -0.29103 -1.7734 -0.29911 -1.081 -0.4775   \n",
              "1  1.5403 -1.2477 -0.23316  0.31218 -0.29103 -1.7734 -0.29911 -1.081 -0.4775   \n",
              "2  1.5346 -1.2477 -0.23316  0.31218 -0.29103 -1.7734 -0.29911 -1.081 -0.4775   \n",
              "3  1.5346 -1.2477 -0.23316  0.31218 -0.29103 -1.7734 -0.29911 -1.081 -0.4775   \n",
              "4  1.5346 -1.2477 -0.23316  0.31218 -0.29103 -1.7734 -0.29911 -1.081 -0.4775   \n",
              "\n",
              "       F10      F11      F12     F13  Heuristic_no.  \n",
              "0 -0.51385 -0.42105 -0.65489  1.4630              0  \n",
              "1 -0.50588 -0.42105 -0.65489  1.4801              1  \n",
              "2 -0.50854 -0.42105 -0.65489  1.4744              0  \n",
              "3 -0.52448 -0.42105 -0.65489  1.4401              0  \n",
              "4 -0.52182 -0.42105 -0.65489  1.4458              0  "
            ],
            "text/html": [
              "\n",
              "  <div id=\"df-0cd1b966-64c5-4f64-9303-f9c57cbd5f7d\">\n",
              "    <div class=\"colab-df-container\">\n",
              "      <div>\n",
              "<style scoped>\n",
              "    .dataframe tbody tr th:only-of-type {\n",
              "        vertical-align: middle;\n",
              "    }\n",
              "\n",
              "    .dataframe tbody tr th {\n",
              "        vertical-align: top;\n",
              "    }\n",
              "\n",
              "    .dataframe thead th {\n",
              "        text-align: right;\n",
              "    }\n",
              "</style>\n",
              "<table border=\"1\" class=\"dataframe\">\n",
              "  <thead>\n",
              "    <tr style=\"text-align: right;\">\n",
              "      <th></th>\n",
              "      <th>F1</th>\n",
              "      <th>F2</th>\n",
              "      <th>F3</th>\n",
              "      <th>F4</th>\n",
              "      <th>F5</th>\n",
              "      <th>F6</th>\n",
              "      <th>F7</th>\n",
              "      <th>F8</th>\n",
              "      <th>F9</th>\n",
              "      <th>F10</th>\n",
              "      <th>F11</th>\n",
              "      <th>F12</th>\n",
              "      <th>F13</th>\n",
              "      <th>Heuristic_no.</th>\n",
              "    </tr>\n",
              "  </thead>\n",
              "  <tbody>\n",
              "    <tr>\n",
              "      <th>0</th>\n",
              "      <td>1.5346</td>\n",
              "      <td>-1.2477</td>\n",
              "      <td>-0.23316</td>\n",
              "      <td>0.31218</td>\n",
              "      <td>-0.29103</td>\n",
              "      <td>-1.7734</td>\n",
              "      <td>-0.29911</td>\n",
              "      <td>-1.081</td>\n",
              "      <td>-0.4775</td>\n",
              "      <td>-0.51385</td>\n",
              "      <td>-0.42105</td>\n",
              "      <td>-0.65489</td>\n",
              "      <td>1.4630</td>\n",
              "      <td>0</td>\n",
              "    </tr>\n",
              "    <tr>\n",
              "      <th>1</th>\n",
              "      <td>1.5403</td>\n",
              "      <td>-1.2477</td>\n",
              "      <td>-0.23316</td>\n",
              "      <td>0.31218</td>\n",
              "      <td>-0.29103</td>\n",
              "      <td>-1.7734</td>\n",
              "      <td>-0.29911</td>\n",
              "      <td>-1.081</td>\n",
              "      <td>-0.4775</td>\n",
              "      <td>-0.50588</td>\n",
              "      <td>-0.42105</td>\n",
              "      <td>-0.65489</td>\n",
              "      <td>1.4801</td>\n",
              "      <td>1</td>\n",
              "    </tr>\n",
              "    <tr>\n",
              "      <th>2</th>\n",
              "      <td>1.5346</td>\n",
              "      <td>-1.2477</td>\n",
              "      <td>-0.23316</td>\n",
              "      <td>0.31218</td>\n",
              "      <td>-0.29103</td>\n",
              "      <td>-1.7734</td>\n",
              "      <td>-0.29911</td>\n",
              "      <td>-1.081</td>\n",
              "      <td>-0.4775</td>\n",
              "      <td>-0.50854</td>\n",
              "      <td>-0.42105</td>\n",
              "      <td>-0.65489</td>\n",
              "      <td>1.4744</td>\n",
              "      <td>0</td>\n",
              "    </tr>\n",
              "    <tr>\n",
              "      <th>3</th>\n",
              "      <td>1.5346</td>\n",
              "      <td>-1.2477</td>\n",
              "      <td>-0.23316</td>\n",
              "      <td>0.31218</td>\n",
              "      <td>-0.29103</td>\n",
              "      <td>-1.7734</td>\n",
              "      <td>-0.29911</td>\n",
              "      <td>-1.081</td>\n",
              "      <td>-0.4775</td>\n",
              "      <td>-0.52448</td>\n",
              "      <td>-0.42105</td>\n",
              "      <td>-0.65489</td>\n",
              "      <td>1.4401</td>\n",
              "      <td>0</td>\n",
              "    </tr>\n",
              "    <tr>\n",
              "      <th>4</th>\n",
              "      <td>1.5346</td>\n",
              "      <td>-1.2477</td>\n",
              "      <td>-0.23316</td>\n",
              "      <td>0.31218</td>\n",
              "      <td>-0.29103</td>\n",
              "      <td>-1.7734</td>\n",
              "      <td>-0.29911</td>\n",
              "      <td>-1.081</td>\n",
              "      <td>-0.4775</td>\n",
              "      <td>-0.52182</td>\n",
              "      <td>-0.42105</td>\n",
              "      <td>-0.65489</td>\n",
              "      <td>1.4458</td>\n",
              "      <td>0</td>\n",
              "    </tr>\n",
              "  </tbody>\n",
              "</table>\n",
              "</div>\n",
              "      <button class=\"colab-df-convert\" onclick=\"convertToInteractive('df-0cd1b966-64c5-4f64-9303-f9c57cbd5f7d')\"\n",
              "              title=\"Convert this dataframe to an interactive table.\"\n",
              "              style=\"display:none;\">\n",
              "        \n",
              "  <svg xmlns=\"http://www.w3.org/2000/svg\" height=\"24px\"viewBox=\"0 0 24 24\"\n",
              "       width=\"24px\">\n",
              "    <path d=\"M0 0h24v24H0V0z\" fill=\"none\"/>\n",
              "    <path d=\"M18.56 5.44l.94 2.06.94-2.06 2.06-.94-2.06-.94-.94-2.06-.94 2.06-2.06.94zm-11 1L8.5 8.5l.94-2.06 2.06-.94-2.06-.94L8.5 2.5l-.94 2.06-2.06.94zm10 10l.94 2.06.94-2.06 2.06-.94-2.06-.94-.94-2.06-.94 2.06-2.06.94z\"/><path d=\"M17.41 7.96l-1.37-1.37c-.4-.4-.92-.59-1.43-.59-.52 0-1.04.2-1.43.59L10.3 9.45l-7.72 7.72c-.78.78-.78 2.05 0 2.83L4 21.41c.39.39.9.59 1.41.59.51 0 1.02-.2 1.41-.59l7.78-7.78 2.81-2.81c.8-.78.8-2.07 0-2.86zM5.41 20L4 18.59l7.72-7.72 1.47 1.35L5.41 20z\"/>\n",
              "  </svg>\n",
              "      </button>\n",
              "      \n",
              "  <style>\n",
              "    .colab-df-container {\n",
              "      display:flex;\n",
              "      flex-wrap:wrap;\n",
              "      gap: 12px;\n",
              "    }\n",
              "\n",
              "    .colab-df-convert {\n",
              "      background-color: #E8F0FE;\n",
              "      border: none;\n",
              "      border-radius: 50%;\n",
              "      cursor: pointer;\n",
              "      display: none;\n",
              "      fill: #1967D2;\n",
              "      height: 32px;\n",
              "      padding: 0 0 0 0;\n",
              "      width: 32px;\n",
              "    }\n",
              "\n",
              "    .colab-df-convert:hover {\n",
              "      background-color: #E2EBFA;\n",
              "      box-shadow: 0px 1px 2px rgba(60, 64, 67, 0.3), 0px 1px 3px 1px rgba(60, 64, 67, 0.15);\n",
              "      fill: #174EA6;\n",
              "    }\n",
              "\n",
              "    [theme=dark] .colab-df-convert {\n",
              "      background-color: #3B4455;\n",
              "      fill: #D2E3FC;\n",
              "    }\n",
              "\n",
              "    [theme=dark] .colab-df-convert:hover {\n",
              "      background-color: #434B5C;\n",
              "      box-shadow: 0px 1px 3px 1px rgba(0, 0, 0, 0.15);\n",
              "      filter: drop-shadow(0px 1px 2px rgba(0, 0, 0, 0.3));\n",
              "      fill: #FFFFFF;\n",
              "    }\n",
              "  </style>\n",
              "\n",
              "      <script>\n",
              "        const buttonEl =\n",
              "          document.querySelector('#df-0cd1b966-64c5-4f64-9303-f9c57cbd5f7d button.colab-df-convert');\n",
              "        buttonEl.style.display =\n",
              "          google.colab.kernel.accessAllowed ? 'block' : 'none';\n",
              "\n",
              "        async function convertToInteractive(key) {\n",
              "          const element = document.querySelector('#df-0cd1b966-64c5-4f64-9303-f9c57cbd5f7d');\n",
              "          const dataTable =\n",
              "            await google.colab.kernel.invokeFunction('convertToInteractive',\n",
              "                                                     [key], {});\n",
              "          if (!dataTable) return;\n",
              "\n",
              "          const docLinkHtml = 'Like what you see? Visit the ' +\n",
              "            '<a target=\"_blank\" href=https://colab.research.google.com/notebooks/data_table.ipynb>data table notebook</a>'\n",
              "            + ' to learn more about interactive tables.';\n",
              "          element.innerHTML = '';\n",
              "          dataTable['output_type'] = 'display_data';\n",
              "          await google.colab.output.renderOutput(dataTable, element);\n",
              "          const docLink = document.createElement('div');\n",
              "          docLink.innerHTML = docLinkHtml;\n",
              "          element.appendChild(docLink);\n",
              "        }\n",
              "      </script>\n",
              "    </div>\n",
              "  </div>\n",
              "  "
            ]
          },
          "metadata": {},
          "execution_count": 53
        }
      ]
    },
    {
      "cell_type": "markdown",
      "source": [
        "**Checking for unbalanced classes**"
      ],
      "metadata": {
        "id": "n9XLdanksq2z"
      }
    },
    {
      "cell_type": "code",
      "source": [
        "plt.ylim(10, 3000)\n",
        "sns.countplot(x = all_data['Heuristic_no.'])"
      ],
      "metadata": {
        "colab": {
          "base_uri": "https://localhost:8080/",
          "height": 473
        },
        "id": "S-z50IziApup",
        "outputId": "739ba121-9fa5-4851-d4b1-c7b3d41e15a5"
      },
      "execution_count": 54,
      "outputs": [
        {
          "output_type": "execute_result",
          "data": {
            "text/plain": [
              "<Axes: xlabel='Heuristic_no.', ylabel='count'>"
            ]
          },
          "metadata": {},
          "execution_count": 54
        },
        {
          "output_type": "display_data",
          "data": {
            "text/plain": [
              "<Figure size 640x480 with 1 Axes>"
            ],
            "image/png": "[encoded data removed]"
          },
          "metadata": {}
        }
      ]
    },
    {
      "cell_type": "markdown",
      "source": [
        "Increasing samples of minority classes to create better balance"
      ],
      "metadata": {
        "id": "JM7WGpCFs1Qf"
      }
    },
    {
      "cell_type": "code",
      "source": [
        "#Seperating the 0 heuristic rows\n",
        "df_filtered = all_data[all_data['Heuristic_no.'] >= 1]\n",
        "df_heuristic_0  = all_data[all_data['Heuristic_no.'] == 0]\n",
        "\n",
        "# For upscaling, replicating others\n",
        "df_filtered_repl = pd.concat([df_filtered]*2) \n",
        "\n",
        "# Combining the classes\n",
        "all_data_balanced = pd.DataFrame()\n",
        "all_data_balanced = all_data_balanced.append(df_filtered_repl)\n",
        "all_data_balanced = all_data_balanced.append(df_heuristic_0)\n",
        "all_data = all_data_balanced"
      ],
      "metadata": {
        "id": "bvL5x_kjI5O0"
      },
      "execution_count": null,
      "outputs": []
    },
    {
      "cell_type": "code",
      "source": [
        "plt.ylim(10, 3000)\n",
        "sns.countplot(x = all_data['Heuristic_no.'])"
      ],
      "metadata": {
        "colab": {
          "base_uri": "https://localhost:8080/",
          "height": 473
        },
        "id": "PGhikzIvKSZ5",
        "outputId": "7aefff26-db6d-4e61-917e-2a7692200337"
      },
      "execution_count": 56,
      "outputs": [
        {
          "output_type": "execute_result",
          "data": {
            "text/plain": [
              "<Axes: xlabel='Heuristic_no.', ylabel='count'>"
            ]
          },
          "metadata": {},
          "execution_count": 56
        },
        {
          "output_type": "display_data",
          "data": {
            "text/plain": [
              "<Figure size 640x480 with 1 Axes>"
            ],
            "image/png": "[encoded data removed]"
          },
          "metadata": {}
        }
      ]
    },
    {
      "cell_type": "markdown",
      "source": [
        "# **Modelling**"
      ],
      "metadata": {
        "id": "lXTj2QT-P7E4"
      }
    },
    {
      "cell_type": "markdown",
      "source": [
        "**Seperating and splitting train & test data**"
      ],
      "metadata": {
        "id": "NqiPZOPvtboR"
      }
    },
    {
      "cell_type": "code",
      "source": [
        "num_feature = int(num_feature)\n",
        "train_data = all_data.iloc[:,:num_feature]\n",
        "test_data = all_data.iloc[:,num_feature]"
      ],
      "metadata": {
        "id": "sjnMmD_GI0Tq"
      },
      "execution_count": 57,
      "outputs": []
    },
    {
      "cell_type": "code",
      "source": [
        "x_train, x_test, y_train, y_test = train_test_split(train_data, test_data , test_size = 0.1, random_state = 0)"
      ],
      "metadata": {
        "id": "iWLU0OD7d-sY"
      },
      "execution_count": 58,
      "outputs": []
    },
    {
      "cell_type": "markdown",
      "source": [
        "**Applying Classifier models:**"
      ],
      "metadata": {
        "id": "mNMVzUegtn0O"
      }
    },
    {
      "cell_type": "code",
      "source": [
        "clf1 = Perceptron()\n",
        "clf2 = LogisticRegression(max_iter = 200)\n",
        "clf3 = SVC()\n",
        "clf4 = DecisionTreeClassifier()\n",
        "clf5 = KNeighborsClassifier()\n",
        "clf6 = GaussianNB()"
      ],
      "metadata": {
        "id": "Nv_UxlvOfOuQ"
      },
      "execution_count": 59,
      "outputs": []
    },
    {
      "cell_type": "markdown",
      "source": [
        "**Hyper parameter tuning for XGBClassifier**"
      ],
      "metadata": {
        "id": "m5pnqOuVt3aq"
      }
    },
    {
      "cell_type": "code",
      "source": [
        "parameters = {'n_estimators':[25,50,100,150,200],\n",
        "              'max_depth':[1,3,5,7,9,None],\n",
        "              'gamma':[0.5, 1, 2, 5]}\n",
        "\n",
        "folds = 3\n",
        "param_comb = 5\n",
        "XGB = xgb.XGBClassifier(objective=\"multi:softprob\", random_state=42)\n",
        "skf = StratifiedKFold(n_splits=folds)\n",
        "grid = RandomizedSearchCV(estimator = XGB, param_distributions=parameters)\n",
        "grid.fit(x_train, y_train)\n",
        "print('\\n Best hyperparameters:')\n",
        "print(grid.best_params_)"
      ],
      "metadata": {
        "id": "4RJZ1-M5ZBTT",
        "colab": {
          "base_uri": "https://localhost:8080/",
          "height": 0
        },
        "outputId": "0aebdd42-3e31-45f1-b4bc-ad239f70a010"
      },
      "execution_count": 60,
      "outputs": [
        {
          "output_type": "stream",
          "name": "stdout",
          "text": [
            "\n",
            " Best hyperparameters:\n",
            "{'n_estimators': 50, 'max_depth': 9, 'gamma': 1}\n"
          ]
        }
      ]
    },
    {
      "cell_type": "code",
      "source": [
        "clf7 = AdaBoostClassifier(n_estimators = 50, learning_rate = 1.0)\n",
        "clf8 = GradientBoostingClassifier(n_estimators = 50, learning_rate= 0.5, max_depth = None, )\n",
        "clf9 = RandomForestClassifier(max_depth = 3, n_estimators =50, criterion = 'entropy') \n",
        "clf10 = xgb.XGBClassifier(objective=\"multi:softprob\", random_state=42, n_estimators= 50, gamma = 1, max_depth= 9)"
      ],
      "metadata": {
        "id": "7GdrEqMdZIUf"
      },
      "execution_count": 61,
      "outputs": []
    },
    {
      "cell_type": "markdown",
      "source": [
        "**Predicting output and calculating accuracy score**"
      ],
      "metadata": {
        "id": "YK50Zgdgy2SO"
      }
    },
    {
      "cell_type": "code",
      "source": [
        "result = [0,0,0,0,0,0,0,0,0,0]\n",
        "clf1.fit(x_train, y_train)\n",
        "pred1 = clf1.predict(x_test)\n",
        "acc1 = accuracy_score(y_test, pred1)\n",
        "result[0] = (acc1)\n",
        "\n",
        "clf2.fit(x_train, y_train)\n",
        "pred2 = clf2.predict(x_test)\n",
        "acc2 = accuracy_score(y_test, pred2)\n",
        "result[1] = (acc2)\n",
        "\n",
        "clf3.fit(x_train, y_train)\n",
        "pred3 = clf3.predict(x_test)\n",
        "acc3 = accuracy_score(y_test, pred3)\n",
        "result[2] = (acc3)\n",
        "\n",
        "clf4.fit(x_train, y_train)\n",
        "pred4 = clf4.predict(x_test)\n",
        "acc4 = accuracy_score(y_test, pred4)\n",
        "result[3] = (acc4)\n",
        "\n",
        "clf5.fit(x_train, y_train)\n",
        "pred5 = clf5.predict(x_test)\n",
        "acc5 = accuracy_score(y_test, pred5)\n",
        "result[4] = (acc5)\n",
        "\n",
        "clf6.fit(x_train, y_train)\n",
        "pred6 = clf6.predict(x_test)\n",
        "acc6 = accuracy_score(y_test, pred6)\n",
        "result[5] = (acc6)\n",
        "\n",
        "clf7.fit(x_train, y_train)\n",
        "pred7 = clf7.predict(x_test)\n",
        "acc7 = accuracy_score(y_test, pred7)\n",
        "result[6] = (acc7)\n",
        "\n",
        "clf8.fit(x_train, y_train)\n",
        "pred8 = clf8.predict(x_test)\n",
        "acc8 = accuracy_score(y_test, pred8)\n",
        "result[7] = (acc8)\n",
        "\n",
        "clf9.fit(x_train, y_train)\n",
        "pred9 = clf9.predict(x_test)\n",
        "acc9 = accuracy_score(y_test, pred9)\n",
        "result[8] = (acc9)\n",
        "\n",
        "clf10.fit(x_train, y_train)\n",
        "pred10 = clf10.predict(x_test)\n",
        "acc10 = accuracy_score(y_test, pred10)\n",
        "result[9] = acc10\n",
        "result = [i*100 for i in result]"
      ],
      "metadata": {
        "id": "CFlzx_TmjVJ3"
      },
      "execution_count": 67,
      "outputs": []
    },
    {
      "cell_type": "markdown",
      "source": [
        "# **Results**"
      ],
      "metadata": {
        "id": "AfhD4yJEQC1C"
      }
    },
    {
      "cell_type": "code",
      "source": [
        "classifier_list = ['Perceptron','LogisticReg.','SVC','DecisionTree',\n",
        "                   'KNeighbors','GaussianNB','AdaBoost',\n",
        "                   'Grad.Boost','   RandomForest','XGB']\n",
        "plt.figure(figsize=(13, 5))\n",
        "plt.bar(classifier_list, result, color = 'purple', edgecolor = 'gold')\n",
        "for index, val in enumerate(result):\n",
        "  plt.text(index-0.2, val/2 , str(round(val, 1)), color = 'white', size = 'large')\n",
        "plt.xlabel(\"CLASSIFIERS\")\n",
        "plt.ylabel(\"ACCURACY %\")\n",
        "plt.title(\"Comparing Classifiers\", fontsize = 15)\n",
        "plt.show()"
      ],
      "metadata": {
        "colab": {
          "base_uri": "https://localhost:8080/",
          "height": 489
        },
        "id": "94oubC11gMxS",
        "outputId": "c585d8e4-2490-4ccd-a0dc-3b7ea9868078"
      },
      "execution_count": 123,
      "outputs": [
        {
          "output_type": "display_data",
          "data": {
            "text/plain": [
              "<Figure size 1300x500 with 1 Axes>"
            ],
            "image/png": "[encoded data removed]"
          },
          "metadata": {}
        }
      ]
    },
    {
      "cell_type": "markdown",
      "source": [
        "## **Classification report of best classifier:**\n",
        "***GradientBoosting***"
      ],
      "metadata": {
        "id": "L1Z0HzJcyqBL"
      }
    },
    {
      "cell_type": "code",
      "source": [
        "cr = classification_report(y_test, pred8,output_dict=True)\n",
        "map = sns.heatmap(pd.DataFrame(cr).iloc[:-1, :], annot=True, cmap=\"viridis\")\n",
        "plt.show()"
      ],
      "metadata": {
        "colab": {
          "base_uri": "https://localhost:8080/",
          "height": 511
        },
        "id": "jZcRs3kIxsW-",
        "outputId": "c95ba746-8fe8-4da2-b540-1437520277a6"
      },
      "execution_count": 121,
      "outputs": [
        {
          "output_type": "display_data",
          "data": {
            "text/plain": [
              "<Figure size 640x480 with 2 Axes>"
            ],
            "image/png": "[encoded data removed]"
          },
          "metadata": {}
        }
      ]
    },
    {
      "cell_type": "code",
      "source": [],
      "metadata": {
        "id": "O8jNkJudNVTG"
      },
      "execution_count": null,
      "outputs": []
    }
  ]
}
